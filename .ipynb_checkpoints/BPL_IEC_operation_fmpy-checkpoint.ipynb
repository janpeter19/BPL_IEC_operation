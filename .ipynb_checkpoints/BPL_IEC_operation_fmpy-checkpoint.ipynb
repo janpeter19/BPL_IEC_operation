{
 "cells": [
  {
   "cell_type": "markdown",
   "id": "509cb9ac",
   "metadata": {},
   "source": [
    "# BPL_IEC_operation\n",
    "\n",
    "Authors: Karl Johan Brink and Jan Peter Axelsson\n",
    "\n",
    "In this notebook we show operation of a typical ion-exchange chromatography step.\n",
    "The impact of pH is also illustrated. \n",
    "\n",
    "The model is based on the simplified model [1]."
   ]
  },
  {
   "cell_type": "code",
   "execution_count": 1,
   "id": "80b5b7ff",
   "metadata": {},
   "outputs": [],
   "source": [
    "run -i BPL_IEC_fmpy_explore.py"
   ]
  },
  {
   "cell_type": "code",
   "execution_count": 2,
   "id": "15fa3f3f",
   "metadata": {},
   "outputs": [],
   "source": [
    "plt.rcParams['figure.figsize'] = [30/2.54, 24/2.54]"
   ]
  },
  {
   "cell_type": "markdown",
   "id": "cd18d531",
   "metadata": {},
   "source": [
    "## 1 Typical parameters an ion exchange chromatography column step"
   ]
  },
  {
   "cell_type": "code",
   "execution_count": 3,
   "id": "82923d8e-dc15-4271-9a1d-ded06fcde606",
   "metadata": {},
   "outputs": [],
   "source": [
    "# From  given colunn height (h) diameter (d) and linear flow rate (lfr)\n",
    "# actual column volume (V) and volume flow rate (VFR) are calculated below.\n",
    "\n",
    "from numpy import pi\n",
    "h = 20.0\n",
    "d = 1.261\n",
    "a = pi*(d/2)**2\n",
    "V = h*a\n",
    "print('V =', np.round(V,1), '[mL]')\n",
    "\n",
    "lfr = 48\n",
    "VFR = a*lfr/60\n",
    "print('VFR =', np.round(VFR,1), '[mL/min]')"
   ]
  },
  {
   "cell_type": "code",
   "execution_count": 4,
   "id": "7764c36e-d1d4-4a81-b6ba-b96221ae6b15",
   "metadata": {},
   "outputs": [],
   "source": [
    "# Sample concentration product P_in and antagonist A_in\n",
    "par(P_in = 1.0)\n",
    "par(A_in = 1.0)\n",
    "par(E_in = 0.0)\n",
    "\n",
    "# Column properties are described by the size and binding capacity of the resin Q_av\n",
    "par(height = h)\n",
    "par(diameter = d)\n",
    "par(Q_av = 6.0)\n",
    "\n",
    "# Resin parameters - default values used\n",
    "\n",
    "# Remaining salt koncentration in the column from prvious batch and eliminated during the initial equilibration period\n",
    "init(E_0 = 50)\n",
    "\n",
    "# Salt concentration of the desorption buffer\n",
    "par(E_in_desorption_buffer = 8.0)\n",
    "\n",
    "# Flow rate rate through the \n",
    "par(LFR=lfr)\n",
    "\n",
    "# Switching points during operation are conveniently described in terms of multiples of the column volume V\n",
    "CV_ekv = 1.0\n",
    "CV_ads = 0.5\n",
    "CV_wash = 1.0\n",
    "CV_desorb = 3.0\n",
    "CV_start_pool = 1.2\n",
    "CV_stop_pool = 4.5\n",
    "CV_wash2 = 2.5\n",
    "par(scale_volume=True, start_adsorption=CV_ekv*V, stop_adsorption=(CV_ekv+CV_ads)*V)\n",
    "par(start_desorption=(CV_ekv+CV_ads+CV_wash)*V, stationary_desorption=(CV_ekv+CV_ads+CV_wash+CV_desorb)*V)\n",
    "par(stop_desorption=7.5*V)\n",
    "par(start_pooling=(CV_ekv+CV_ads+CV_wash+CV_start_pool)*V, stop_pooling=(CV_ekv+CV_ads+CV_wash+CV_stop_pool)*V)\n",
    "\n",
    "# Simulation and plot of results\n",
    "newplot(title='Illustration of operation of the chromatgraphy step', plotType='Elution-conductivity-vs-CV-combined-all')\n",
    "simu((CV_ekv+CV_ads+CV_wash+CV_desorb+CV_wash2)*V/VFR)"
   ]
  },
  {
   "cell_type": "markdown",
   "id": "9c1a862e-2d87-4aa9-9730-db91df4b16d7",
   "metadata": {},
   "source": [
    "Comments of steps of operations:\n",
    "1) Time: 0-1 hours - equilibration. Just to illustrate the equilibration process the first part of the column is given an initial value of salt concentration.\n",
    "2) Time: 1-1.5 hours - sample is loaded on the column. The product P is adsorbed to the columne and just a small amount passes through and goes to the waste. The antagonist A is much less adsrobed.\n",
    "3) Time: 1.5-2.5 hours - washing 1. The column comes to equilibrium and both antagonist and product comes down to low levels.\n",
    "4) Time: 2.5-5.5 hours - desorption. A linear gradient of increaseing salt concentration is applied. First the antagonist and later the product comes out.\n",
    "5) Time: 5.5-7.5 hours - washing 2 The The column has constant salt concentration and stationary desorption. \n",
    "6) Time: 3.7-7.0 hours - pooling of product. The start- and stop of pooling are chosen with trade-off between maximizing the product pooled and minimize the amount of antagonist in the pooling.\n",
    "7) Time: 7.5-8.0 hours - desorption stopped and salt is washed out and preparation of the next batch to come.\n",
    "\n",
    "Note that step 4 and 5 is parallel to step 6."
   ]
  },
  {
   "cell_type": "code",
   "execution_count": 5,
   "id": "3ea7b3d2-c968-4e14-9438-613cc83f830b",
   "metadata": {},
   "outputs": [],
   "source": [
    "# Check mass-balance of P and A\n",
    "P_mass = model.get('tank_harvest.m[1]') + model.get('tank_waste.m[1]')\n",
    "A_mass = model.get('tank_harvest.m[2]') + model.get('tank_waste.m[2]')\n",
    "print('P_mass [mg] =', P_mass)\n",
    "print('A_mass [mg] =', A_mass)"
   ]
  },
  {
   "cell_type": "markdown",
   "id": "3eb0c497-1f2f-4284-91d7-d2510869519b",
   "metadata": {},
   "source": [
    "## 2 The impact of the slope of the desorption gradient"
   ]
  },
  {
   "cell_type": "code",
   "execution_count": null,
   "id": "b5abb62b-123f-4b08-92b5-34bc10e9309f",
   "metadata": {},
   "outputs": [],
   "source": [
    "# Simulations showing the impact of change of slope of the desorption gradient\n",
    "newplot(title='Impact of the slope of the gradient', plotType='Elution-conductivity-vs-CV-combined-all')\n",
    "\n",
    "# Same gradienet as before\n",
    "par(start_desorption=(CV_ekv+CV_ads+CV_wash)*V, stationary_desorption=(CV_ekv+ CV_ads+CV_wash+CV_desorb)*V)  \n",
    "par(stop_desorption=7.5*V)\n",
    "simu((CV_ekv+CV_ads+CV_wash+CV_desorb+CV_wash2)*V/VFR)\n",
    "\n",
    "# Gradeint finishes after 0.5 of the volume\n",
    "par(stationary_desorption = (CV_ekv + CV_ads + CV_wash + 0.5*CV_desorb)*V )\n",
    "simu((CV_ekv+CV_ads+CV_wash+CV_desorb+CV_wash2)*V/VFR)\n",
    "\n",
    "# Fradient finishes after 0.25 of the volume\n",
    "par(stationary_desorption = (CV_ekv + CV_ads + CV_wash + 0.25*CV_desorb)*V )\n",
    "simu((CV_ekv+CV_ads+CV_wash+CV_desorb+CV_wash2)*V/VFR)"
   ]
  },
  {
   "cell_type": "markdown",
   "id": "535dc1e0-a2cc-4892-8fc0-b135d6391682",
   "metadata": {},
   "source": [
    "## 3 The impact of salt concentration in the sample"
   ]
  },
  {
   "cell_type": "markdown",
   "id": "61ba33a9-3aab-4779-85c7-d5771ccc9751",
   "metadata": {},
   "source": [
    "These values should be compared with the expected value 12.5 mg, i.e. half a column volume with sample concentration 1 mg/L. The difference is due to numerical errors during simulation. "
   ]
  },
  {
   "cell_type": "code",
   "execution_count": null,
   "id": "2d74c25f-bb54-4bb8-b726-9690c17160b0",
   "metadata": {},
   "outputs": [],
   "source": [
    "# Let us investigate the impact of increasing salt concetration in the sample E_in\n",
    "\n",
    "# Simulate and plot the results\n",
    "newplot(title='Adsorption to the column - E_in increased', plotType='Elution-conductivity-vs-CV-combined-all')\n",
    "\n",
    "for value in [0, 10, 20]:\n",
    "    par(E_in=value)\n",
    "    simu((CV_ekv+CV_ads+CV_wash+CV_desorb+CV_wash2)*V/VFR)\n",
    "\n",
    "# Restore default values\n",
    "par(k2=0.05, k4=0.3, E_in=0)   "
   ]
  },
  {
   "cell_type": "markdown",
   "id": "fd2c276a-2a83-4317-94c9-6d2b47aff6d2",
   "metadata": {},
   "source": [
    "Note, that increased salt concentration in the sample affect binding of both proteins.  During adsorption less  is bound. During desoprtion less product P can be harvested but the fraction of antagonist A may be lowered.\n",
    "Thus, some product is lost but the quality in terms of purity is improved."
   ]
  },
  {
   "cell_type": "markdown",
   "id": "3fd3e53e-1943-4ad4-8a9b-a34924ef1e85",
   "metadata": {},
   "source": [
    "## 4 The impact of change of binding strength due to pH\n",
    "There are many factors that contribute to the binding strength. A most important factor is the pH-value of the resin and the characteristic iso-electric point of the protein. The binding strenght can be seen as proportional to the difference.\n",
    "\n",
    "The binding strength of the resin is described by the quotient KP=k1/k2 for the protein P and similarly KA=k3/k4 for the protein A.\n",
    "\n",
    "Below a few help-functions that describe this idea of the pH difference and its impact on binding strength in terms of the parameters k1, k2, k3, and k4 of the protein-resin interaction."
   ]
  },
  {
   "cell_type": "code",
   "execution_count": null,
   "id": "dcd3a4d5-20ce-4a53-a1c3-b691b91cae14",
   "metadata": {},
   "outputs": [],
   "source": [
    "# Define function that describe the proportionality of binding strength ot \n",
    "# the pH difference of the iso-electric point and the resin\n",
    "\n",
    "def KP_pH_sensitivity(pI_P=8.0, pH_resin=7.0):\n",
    "    K_P_nom = 0.0\n",
    "    coeff_pH = 6.0\n",
    "    return K_P_nom + coeff_pH*(pI_P-pH_resin)\n",
    "\n",
    "def KA_pH_sensitivity(pI_A=7.1667, pH_resin=7.0):\n",
    "    K_A_nom = 0.0\n",
    "    coeff_pH = 1.0\n",
    "    return K_A_nom + coeff_pH*(pI_A-pH_resin)\n",
    "\n",
    "def par_pH(pI_P=8.0, pI_A=7.1667, pH_resin=7.0, TP=3.33, TA=20.0):\n",
    "    if (pI_P > pH_resin) & (pI_A > pH_resin):\n",
    "        par(k2 = 1/(TP*KP_pH_sensitivity(pI_P=pI_P, pH_resin=pH_resin)))\n",
    "        par(k4 = 1/(TA*KA_pH_sensitivity(pI_A=pI_A, pH_resin=pH_resin)))\n",
    "    else:\n",
    "        print('Both pI_P > pH_resin and pI_A > pH_resin must hold - no parameter change made')"
   ]
  },
  {
   "cell_type": "code",
   "execution_count": null,
   "id": "111d9b67-d8a4-45cf-a939-5517d13c016e",
   "metadata": {},
   "outputs": [],
   "source": [
    "# The default parameters of the column\n",
    "disp('column')"
   ]
  },
  {
   "cell_type": "code",
   "execution_count": null,
   "id": "2024d103-1365-484a-a476-0991f8956c7a",
   "metadata": {},
   "outputs": [],
   "source": [
    "# Let us investigate the impact of change of the iso-electric pH for protein P\n",
    "\n",
    "# Simulate and plot the results\n",
    "newplot(title='Adsorption to the column - increasing pI_P', plotType='Elution-conductivity-vs-CV-combined-all')\n",
    "\n",
    "for value in [7.2, 7.6, 8.0]:  \n",
    "    par_pH(pI_P=value, pI_A=7.1667, pH_resin=7.0)\n",
    "    simu((CV_ekv+CV_ads+CV_wash+CV_desorb+CV_wash2)*V/VFR)\n",
    "\n",
    "# Restore default values\n",
    "par(k2 = 0.05, k4 = 0.3)       "
   ]
  },
  {
   "cell_type": "markdown",
   "id": "128f8c75-c47d-4f58-8c3c-988f25c49bc2",
   "metadata": {},
   "source": [
    "Note, with increasing pI_P the binding of P increase which leads less loss of product during adsorption. During desorption the peak height is lower with increasing binding strenght, but the total amoiunt of product P that can be harvested is higher, due to the smaller loss during adsorption."
   ]
  },
  {
   "cell_type": "code",
   "execution_count": null,
   "id": "bd78a34c-34ce-461c-a856-4b573f8e8529",
   "metadata": {},
   "outputs": [],
   "source": [
    "# Let us investigate the impact of pI_P close to pH_resin\n",
    "\n",
    "# Simulate and plot the results\n",
    "newplot(title='Adsorption to the column - pI_P close to pH_resin', plotType='Elution-conductivity-vs-CV-combined-all')\n",
    "\n",
    "for value in [7.0001]:\n",
    "    par_pH(pI_P=value, pI_A=8)\n",
    "    simu((CV_ekv+CV_ads+CV_wash+CV_desorb+CV_wash2)*V/VFR)\n",
    "    \n",
    "# Restore default values\n",
    "par(k2=0.05, k4=0.3)   "
   ]
  },
  {
   "cell_type": "code",
   "execution_count": null,
   "id": "8598ad02-f2b1-4711-b22e-e2a84d513818",
   "metadata": {},
   "outputs": [],
   "source": [
    "# Let us investigate the impact of pI_A close to pH_resin\n",
    "\n",
    "# Simulate and plot the results\n",
    "newplot(title='Adsorption to the column - pI_A close to pH_resin', plotType='Elution-conductivity-vs-CV-combined-all')\n",
    "\n",
    "for value in [7.001]:\n",
    "    par_pH(pI_P=8.0, pI_A=value)\n",
    "    simu((CV_ekv+CV_ads+CV_wash+CV_desorb+CV_wash2)*V/VFR)\n",
    "\n",
    "# Restore default values\n",
    "par(k2=0.05, k4=0.3)    "
   ]
  },
  {
   "cell_type": "code",
   "execution_count": null,
   "id": "27e39424-92ba-4200-9bdd-105d4b1bcbae",
   "metadata": {},
   "outputs": [],
   "source": [
    "# Let us also investigate the impact of salt concentration of the desorptions buffer\n",
    "\n",
    "# Simulate and plot the results\n",
    "newplot(title='Adsorption to the column - desorption buffer salt conc varied', plotType='Elution-conductivity-vs-CV-combined-all')\n",
    "\n",
    "for value in [8.0, 16.0]:\n",
    "    par(E_in_desorption_buffer=value)\n",
    "    par_pH(pI_P=8.0, pI_A=7.001, pH_resin=7.0)\n",
    "    simu((CV_ekv+CV_ads+CV_wash+CV_desorb+CV_wash2)*V/VFR)\n",
    "\n",
    "# Restore default values\n",
    "par(E_in_desorption_buffer=8.0) \n",
    "par(k2=0.05, k4=0.3)  "
   ]
  },
  {
   "cell_type": "markdown",
   "id": "76faaa7c-9e21-4720-82d9-0bb7d1634e58",
   "metadata": {},
   "source": [
    "## 5 Breakthrough curve often used during process development"
   ]
  },
  {
   "cell_type": "code",
   "execution_count": null,
   "id": "d0b30c6d-aa82-4793-85a3-d701c02b9aef",
   "metadata": {},
   "outputs": [],
   "source": [
    "# Experiment to check column capacity Q_av often called breakthrough curve\n",
    "par(P_in=1, A_in=0, E_in=0)\n",
    "init(E_0 = 0)\n",
    "par(Q_av=6.0)\n",
    "\n",
    "par(scale_volume=True, start_adsorption=1*V, stop_adsorption=4.01*V)\n",
    "par(start_desorption=10*V, stationary_desorption=10.5*V, stop_desorption=11*V)\n",
    "par(start_pooling=11*V, stop_pooling=12*V)\n",
    "\n",
    "newplot(title='Impact of variation in column capacity Q_av', plotType='Elution-conductivity-vs-CV-combined-all')\n",
    "for value in [1, 2, 3, 6]: par(Q_av=value); simu(4.0*V/VFR)\n",
    "\n",
    "# Linje för 10% UV    \n",
    "ax1.plot([0,4], [0.1,0.1],'k--')\n",
    "\n",
    "# Restore default parameters\n",
    "par(Q_av=6.0, A_in=1.0)"
   ]
  },
  {
   "cell_type": "markdown",
   "id": "cf10f9a2-9526-4174-9371-9f45f4adef00",
   "metadata": {},
   "source": [
    "With greater column capacity Q_av the longer it takes before the concentration of protein start to increase. Note, that the salt concenration increase initially during adsorption but then go back to low levels. This phenomenon ia also seen experimentally."
   ]
  },
  {
   "cell_type": "markdown",
   "id": "0b38a8c1-3551-4dca-870c-cb3d80f876bb",
   "metadata": {},
   "source": [
    "## 6 Summary\n",
    "The simplified simulation model was found useful to describe operational aspects of ion exchange chromtography.\n",
    "* The model describe qualitatively well the impact of typical operational changes in the flow rate. \n",
    "* The model also describe qualtively well the impact of changes in iso-electric point of the proteins relative the pH of the resin.\n",
    "* The small deviations in salt concentration from linear increase during the gradient in the salt buffer is also what you see in reality.\n"
   ]
  },
  {
   "cell_type": "markdown",
   "id": "80aab73a-95e4-4e4a-8fc2-e7e81a51d721",
   "metadata": {},
   "source": [
    "## References\n",
    "\n",
    "1) Månsson, Jonas, \"Control of chromatography comlumn in production scale\", Master thesis TFRT-5599, Department of Automatic Control, LTH, Lund Sweden, 1998.\n",
    "2) Pharmacia LKB Biotechnology. \"Ion Exchange chromatography. Principles and Methods.\", 3rd edition, 1991."
   ]
  },
  {
   "cell_type": "markdown",
   "id": "fee8a68e-fc8e-4c4c-9a2b-af1bdcc2c84d",
   "metadata": {},
   "source": [
    "## Appendix"
   ]
  },
  {
   "cell_type": "code",
   "execution_count": null,
   "id": "9e1ac401",
   "metadata": {},
   "outputs": [],
   "source": [
    "system_info()"
   ]
  },
  {
   "cell_type": "code",
   "execution_count": null,
   "id": "70f44e61-3728-4956-bd78-5a176c9f624c",
   "metadata": {},
   "outputs": [],
   "source": []
  }
 ],
 "metadata": {
  "kernelspec": {
   "display_name": "Python 3 (ipykernel)",
   "language": "python",
   "name": "python3"
  },
  "language_info": {
   "codemirror_mode": {
    "name": "ipython",
    "version": 3
   },
   "file_extension": ".py",
   "mimetype": "text/x-python",
   "name": "python",
   "nbconvert_exporter": "python",
   "pygments_lexer": "ipython3",
   "version": "3.9.16"
  }
 },
 "nbformat": 4,
 "nbformat_minor": 5
}
